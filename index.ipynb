{
 "cells": [
  {
   "cell_type": "markdown",
   "metadata": {},
   "source": [
    "# Pivot Tables with Pandas - Lab\n",
    "\n",
    "## Introduction\n",
    "\n",
    "In this lab, we'll learn how to make use of our newfound knowledge of pivot tables to work with real-world data.  We'll start by exploring \n",
    "\n",
    "## Objectives\n",
    "\n",
    "You will be able to:\n",
    "\n",
    "* Understand and explain what a multi-level hierarchical index is\n",
    "* Understand, explain the difference and use df.pivot and pd.pivot_table\n",
    "* Switch between “long” and “wide” in a DataFrame using stack() and unstack()\n",
    "* Transform “wide” to “long” DataFrames using `melt`"
   ]
  },
  {
   "cell_type": "markdown",
   "metadata": {},
   "source": [
    "## Getting Started\n",
    "\n",
    "### Import Pandas and Matplotlib.pyplot Using Standard Aliases\n",
    "\n",
    "In the cell below:\n",
    "\n",
    "* Import `pandas` and set the standard alias\n",
    "* Import `matplotlib.pyplot` and set the standard alias\n",
    "* Run the ipython magic command to display matplotlib graphs inline within the notebook"
   ]
  },
  {
   "cell_type": "code",
   "execution_count": 1,
   "metadata": {},
   "outputs": [],
   "source": [
    "import pandas as pd\n",
    "import matplotlib.pyplot as plt\n",
    "%matplotlib inline"
   ]
  },
  {
   "cell_type": "markdown",
   "metadata": {},
   "source": [
    "## Load the Data\n",
    "The data for this activity is stored in a file called `'causes_of_death.tsv'` which is a somewhat morbid dataset from the center for disease control. Note that the file extension .tsv indicates that this data is formatted slightly differently then the standard .csv, the difference being that it has 'tab seperated values' instead of 'comma seperated values'. As such, pass in the optional parameter `delimiter='\\t'` into the `pd.read_csv()` method."
   ]
  },
  {
   "cell_type": "code",
   "execution_count": 147,
   "metadata": {},
   "outputs": [],
   "source": [
    "df = pd.read_csv('causes_of_death.tsv', sep='\\t')\n"
   ]
  },
  {
   "cell_type": "markdown",
   "metadata": {},
   "source": [
    "Now, display the head of the DataFrame to ensure everything loaded correctly."
   ]
  },
  {
   "cell_type": "code",
   "execution_count": 5,
   "metadata": {},
   "outputs": [
    {
     "data": {
      "text/html": [
       "<div>\n",
       "<style scoped>\n",
       "    .dataframe tbody tr th:only-of-type {\n",
       "        vertical-align: middle;\n",
       "    }\n",
       "\n",
       "    .dataframe tbody tr th {\n",
       "        vertical-align: top;\n",
       "    }\n",
       "\n",
       "    .dataframe thead th {\n",
       "        text-align: right;\n",
       "    }\n",
       "</style>\n",
       "<table border=\"1\" class=\"dataframe\">\n",
       "  <thead>\n",
       "    <tr style=\"text-align: right;\">\n",
       "      <th></th>\n",
       "      <th>Notes</th>\n",
       "      <th>State</th>\n",
       "      <th>State Code</th>\n",
       "      <th>Ten-Year Age Groups</th>\n",
       "      <th>Ten-Year Age Groups Code</th>\n",
       "      <th>Gender</th>\n",
       "      <th>Gender Code</th>\n",
       "      <th>Race</th>\n",
       "      <th>Race Code</th>\n",
       "      <th>Deaths</th>\n",
       "      <th>Population</th>\n",
       "      <th>Crude Rate</th>\n",
       "    </tr>\n",
       "  </thead>\n",
       "  <tbody>\n",
       "    <tr>\n",
       "      <th>0</th>\n",
       "      <td>NaN</td>\n",
       "      <td>Alabama</td>\n",
       "      <td>1</td>\n",
       "      <td>&lt; 1 year</td>\n",
       "      <td>1</td>\n",
       "      <td>Female</td>\n",
       "      <td>F</td>\n",
       "      <td>American Indian or Alaska Native</td>\n",
       "      <td>1002-5</td>\n",
       "      <td>14</td>\n",
       "      <td>3579</td>\n",
       "      <td>Unreliable</td>\n",
       "    </tr>\n",
       "    <tr>\n",
       "      <th>1</th>\n",
       "      <td>NaN</td>\n",
       "      <td>Alabama</td>\n",
       "      <td>1</td>\n",
       "      <td>&lt; 1 year</td>\n",
       "      <td>1</td>\n",
       "      <td>Female</td>\n",
       "      <td>F</td>\n",
       "      <td>Asian or Pacific Islander</td>\n",
       "      <td>A-PI</td>\n",
       "      <td>24</td>\n",
       "      <td>7443</td>\n",
       "      <td>322.5</td>\n",
       "    </tr>\n",
       "    <tr>\n",
       "      <th>2</th>\n",
       "      <td>NaN</td>\n",
       "      <td>Alabama</td>\n",
       "      <td>1</td>\n",
       "      <td>&lt; 1 year</td>\n",
       "      <td>1</td>\n",
       "      <td>Female</td>\n",
       "      <td>F</td>\n",
       "      <td>Black or African American</td>\n",
       "      <td>2054-5</td>\n",
       "      <td>2093</td>\n",
       "      <td>169339</td>\n",
       "      <td>1236.0</td>\n",
       "    </tr>\n",
       "    <tr>\n",
       "      <th>3</th>\n",
       "      <td>NaN</td>\n",
       "      <td>Alabama</td>\n",
       "      <td>1</td>\n",
       "      <td>&lt; 1 year</td>\n",
       "      <td>1</td>\n",
       "      <td>Female</td>\n",
       "      <td>F</td>\n",
       "      <td>White</td>\n",
       "      <td>2106-3</td>\n",
       "      <td>2144</td>\n",
       "      <td>347921</td>\n",
       "      <td>616.2</td>\n",
       "    </tr>\n",
       "    <tr>\n",
       "      <th>4</th>\n",
       "      <td>NaN</td>\n",
       "      <td>Alabama</td>\n",
       "      <td>1</td>\n",
       "      <td>&lt; 1 year</td>\n",
       "      <td>1</td>\n",
       "      <td>Male</td>\n",
       "      <td>M</td>\n",
       "      <td>Asian or Pacific Islander</td>\n",
       "      <td>A-PI</td>\n",
       "      <td>33</td>\n",
       "      <td>7366</td>\n",
       "      <td>448.0</td>\n",
       "    </tr>\n",
       "  </tbody>\n",
       "</table>\n",
       "</div>"
      ],
      "text/plain": [
       "   Notes    State  State Code Ten-Year Age Groups Ten-Year Age Groups Code  \\\n",
       "0    NaN  Alabama           1            < 1 year                        1   \n",
       "1    NaN  Alabama           1            < 1 year                        1   \n",
       "2    NaN  Alabama           1            < 1 year                        1   \n",
       "3    NaN  Alabama           1            < 1 year                        1   \n",
       "4    NaN  Alabama           1            < 1 year                        1   \n",
       "\n",
       "   Gender Gender Code                              Race Race Code  Deaths  \\\n",
       "0  Female           F  American Indian or Alaska Native    1002-5      14   \n",
       "1  Female           F         Asian or Pacific Islander      A-PI      24   \n",
       "2  Female           F         Black or African American    2054-5    2093   \n",
       "3  Female           F                             White    2106-3    2144   \n",
       "4    Male           M         Asian or Pacific Islander      A-PI      33   \n",
       "\n",
       "  Population  Crude Rate  \n",
       "0       3579  Unreliable  \n",
       "1       7443       322.5  \n",
       "2     169339      1236.0  \n",
       "3     347921       616.2  \n",
       "4       7366       448.0  "
      ]
     },
     "execution_count": 5,
     "metadata": {},
     "output_type": "execute_result"
    }
   ],
   "source": [
    "df.head()"
   ]
  },
  {
   "cell_type": "markdown",
   "metadata": {},
   "source": [
    "Our data is currently in **_Wide_** format.  We can tidy this up by converting it to **_Long_** format by using groupby statements to aggregate our data into a much neater, more readable format. \n",
    "\n",
    "# Groupby Aggregations\n",
    "\n",
    "Complete the following groupby statements."
   ]
  },
  {
   "cell_type": "markdown",
   "metadata": {},
   "source": [
    "# 1) Groupby State and Gender. Sum the values."
   ]
  },
  {
   "cell_type": "code",
   "execution_count": 43,
   "metadata": {},
   "outputs": [
    {
     "data": {
      "text/html": [
       "<div>\n",
       "<style scoped>\n",
       "    .dataframe tbody tr th:only-of-type {\n",
       "        vertical-align: middle;\n",
       "    }\n",
       "\n",
       "    .dataframe tbody tr th {\n",
       "        vertical-align: top;\n",
       "    }\n",
       "\n",
       "    .dataframe thead th {\n",
       "        text-align: right;\n",
       "    }\n",
       "</style>\n",
       "<table border=\"1\" class=\"dataframe\">\n",
       "  <thead>\n",
       "    <tr style=\"text-align: right;\">\n",
       "      <th></th>\n",
       "      <th></th>\n",
       "      <th>Notes</th>\n",
       "      <th>State Code</th>\n",
       "      <th>Deaths</th>\n",
       "    </tr>\n",
       "    <tr>\n",
       "      <th>State</th>\n",
       "      <th>Gender</th>\n",
       "      <th></th>\n",
       "      <th></th>\n",
       "      <th></th>\n",
       "    </tr>\n",
       "  </thead>\n",
       "  <tbody>\n",
       "    <tr>\n",
       "      <th rowspan=\"2\" valign=\"top\">Alabama</th>\n",
       "      <th>Female</th>\n",
       "      <td>0.0</td>\n",
       "      <td>40</td>\n",
       "      <td>430133</td>\n",
       "    </tr>\n",
       "    <tr>\n",
       "      <th>Male</th>\n",
       "      <td>0.0</td>\n",
       "      <td>41</td>\n",
       "      <td>430647</td>\n",
       "    </tr>\n",
       "    <tr>\n",
       "      <th rowspan=\"2\" valign=\"top\">Alaska</th>\n",
       "      <th>Female</th>\n",
       "      <td>0.0</td>\n",
       "      <td>80</td>\n",
       "      <td>27199</td>\n",
       "    </tr>\n",
       "    <tr>\n",
       "      <th>Male</th>\n",
       "      <td>0.0</td>\n",
       "      <td>84</td>\n",
       "      <td>36135</td>\n",
       "    </tr>\n",
       "    <tr>\n",
       "      <th>Arizona</th>\n",
       "      <th>Female</th>\n",
       "      <td>0.0</td>\n",
       "      <td>180</td>\n",
       "      <td>396028</td>\n",
       "    </tr>\n",
       "  </tbody>\n",
       "</table>\n",
       "</div>"
      ],
      "text/plain": [
       "                Notes  State Code  Deaths\n",
       "State   Gender                           \n",
       "Alabama Female    0.0          40  430133\n",
       "        Male      0.0          41  430647\n",
       "Alaska  Female    0.0          80   27199\n",
       "        Male      0.0          84   36135\n",
       "Arizona Female    0.0         180  396028"
      ]
     },
     "execution_count": 43,
     "metadata": {},
     "output_type": "execute_result"
    }
   ],
   "source": [
    "df.groupby(['State', 'Gender']).sum().head() # Your code here\n"
   ]
  },
  {
   "cell_type": "markdown",
   "metadata": {},
   "source": [
    "# 2) Groupby State and Gender and Race. Find the average values."
   ]
  },
  {
   "cell_type": "code",
   "execution_count": 44,
   "metadata": {},
   "outputs": [
    {
     "data": {
      "text/html": [
       "<div>\n",
       "<style scoped>\n",
       "    .dataframe tbody tr th:only-of-type {\n",
       "        vertical-align: middle;\n",
       "    }\n",
       "\n",
       "    .dataframe tbody tr th {\n",
       "        vertical-align: top;\n",
       "    }\n",
       "\n",
       "    .dataframe thead th {\n",
       "        text-align: right;\n",
       "    }\n",
       "</style>\n",
       "<table border=\"1\" class=\"dataframe\">\n",
       "  <thead>\n",
       "    <tr style=\"text-align: right;\">\n",
       "      <th></th>\n",
       "      <th></th>\n",
       "      <th></th>\n",
       "      <th>Notes</th>\n",
       "      <th>State Code</th>\n",
       "      <th>Deaths</th>\n",
       "    </tr>\n",
       "    <tr>\n",
       "      <th>State</th>\n",
       "      <th>Gender</th>\n",
       "      <th>Race</th>\n",
       "      <th></th>\n",
       "      <th></th>\n",
       "      <th></th>\n",
       "    </tr>\n",
       "  </thead>\n",
       "  <tbody>\n",
       "    <tr>\n",
       "      <th rowspan=\"5\" valign=\"top\">Alabama</th>\n",
       "      <th rowspan=\"4\" valign=\"top\">Female</th>\n",
       "      <th>American Indian or Alaska Native</th>\n",
       "      <td>NaN</td>\n",
       "      <td>1.0</td>\n",
       "      <td>70.875000</td>\n",
       "    </tr>\n",
       "    <tr>\n",
       "      <th>Asian or Pacific Islander</th>\n",
       "      <td>NaN</td>\n",
       "      <td>1.0</td>\n",
       "      <td>95.500000</td>\n",
       "    </tr>\n",
       "    <tr>\n",
       "      <th>Black or African American</th>\n",
       "      <td>NaN</td>\n",
       "      <td>1.0</td>\n",
       "      <td>9074.000000</td>\n",
       "    </tr>\n",
       "    <tr>\n",
       "      <th>White</th>\n",
       "      <td>NaN</td>\n",
       "      <td>1.0</td>\n",
       "      <td>29890.636364</td>\n",
       "    </tr>\n",
       "    <tr>\n",
       "      <th>Male</th>\n",
       "      <th>American Indian or Alaska Native</th>\n",
       "      <td>NaN</td>\n",
       "      <td>1.0</td>\n",
       "      <td>86.375000</td>\n",
       "    </tr>\n",
       "  </tbody>\n",
       "</table>\n",
       "</div>"
      ],
      "text/plain": [
       "                                                 Notes  State Code  \\\n",
       "State   Gender Race                                                  \n",
       "Alabama Female American Indian or Alaska Native    NaN         1.0   \n",
       "               Asian or Pacific Islander           NaN         1.0   \n",
       "               Black or African American           NaN         1.0   \n",
       "               White                               NaN         1.0   \n",
       "        Male   American Indian or Alaska Native    NaN         1.0   \n",
       "\n",
       "                                                       Deaths  \n",
       "State   Gender Race                                            \n",
       "Alabama Female American Indian or Alaska Native     70.875000  \n",
       "               Asian or Pacific Islander            95.500000  \n",
       "               Black or African American          9074.000000  \n",
       "               White                             29890.636364  \n",
       "        Male   American Indian or Alaska Native     86.375000  "
      ]
     },
     "execution_count": 44,
     "metadata": {},
     "output_type": "execute_result"
    }
   ],
   "source": [
    "df.groupby(['State', 'Gender', 'Race']).mean().head() # Your code here\n"
   ]
  },
  {
   "cell_type": "markdown",
   "metadata": {},
   "source": [
    "# 3) Groupby Gender and Race. Find the minimum values."
   ]
  },
  {
   "cell_type": "code",
   "execution_count": 45,
   "metadata": {},
   "outputs": [
    {
     "data": {
      "text/html": [
       "<div>\n",
       "<style scoped>\n",
       "    .dataframe tbody tr th:only-of-type {\n",
       "        vertical-align: middle;\n",
       "    }\n",
       "\n",
       "    .dataframe tbody tr th {\n",
       "        vertical-align: top;\n",
       "    }\n",
       "\n",
       "    .dataframe thead th {\n",
       "        text-align: right;\n",
       "    }\n",
       "</style>\n",
       "<table border=\"1\" class=\"dataframe\">\n",
       "  <thead>\n",
       "    <tr style=\"text-align: right;\">\n",
       "      <th></th>\n",
       "      <th></th>\n",
       "      <th>Notes</th>\n",
       "      <th>State</th>\n",
       "      <th>State Code</th>\n",
       "      <th>Ten-Year Age Groups</th>\n",
       "      <th>Ten-Year Age Groups Code</th>\n",
       "      <th>Gender Code</th>\n",
       "      <th>Race Code</th>\n",
       "      <th>Deaths</th>\n",
       "      <th>Population</th>\n",
       "      <th>Crude Rate</th>\n",
       "    </tr>\n",
       "    <tr>\n",
       "      <th>Gender</th>\n",
       "      <th>Race</th>\n",
       "      <th></th>\n",
       "      <th></th>\n",
       "      <th></th>\n",
       "      <th></th>\n",
       "      <th></th>\n",
       "      <th></th>\n",
       "      <th></th>\n",
       "      <th></th>\n",
       "      <th></th>\n",
       "      <th></th>\n",
       "    </tr>\n",
       "  </thead>\n",
       "  <tbody>\n",
       "    <tr>\n",
       "      <th rowspan=\"4\" valign=\"top\">Female</th>\n",
       "      <th>American Indian or Alaska Native</th>\n",
       "      <td>NaN</td>\n",
       "      <td>Alabama</td>\n",
       "      <td>1</td>\n",
       "      <td>1-4 years</td>\n",
       "      <td>1</td>\n",
       "      <td>F</td>\n",
       "      <td>1002-5</td>\n",
       "      <td>10</td>\n",
       "      <td>100285</td>\n",
       "      <td>10.4</td>\n",
       "    </tr>\n",
       "    <tr>\n",
       "      <th>Asian or Pacific Islander</th>\n",
       "      <td>NaN</td>\n",
       "      <td>Alabama</td>\n",
       "      <td>1</td>\n",
       "      <td>1-4 years</td>\n",
       "      <td>1</td>\n",
       "      <td>F</td>\n",
       "      <td>A-PI</td>\n",
       "      <td>10</td>\n",
       "      <td>100371</td>\n",
       "      <td>10.1</td>\n",
       "    </tr>\n",
       "    <tr>\n",
       "      <th>Black or African American</th>\n",
       "      <td>NaN</td>\n",
       "      <td>Alabama</td>\n",
       "      <td>1</td>\n",
       "      <td>1-4 years</td>\n",
       "      <td>1</td>\n",
       "      <td>F</td>\n",
       "      <td>2054-5</td>\n",
       "      <td>10</td>\n",
       "      <td>100170</td>\n",
       "      <td>100.3</td>\n",
       "    </tr>\n",
       "    <tr>\n",
       "      <th>White</th>\n",
       "      <td>NaN</td>\n",
       "      <td>Alabama</td>\n",
       "      <td>1</td>\n",
       "      <td>1-4 years</td>\n",
       "      <td>1</td>\n",
       "      <td>F</td>\n",
       "      <td>2106-3</td>\n",
       "      <td>12</td>\n",
       "      <td>1000704</td>\n",
       "      <td>10.1</td>\n",
       "    </tr>\n",
       "    <tr>\n",
       "      <th>Male</th>\n",
       "      <th>American Indian or Alaska Native</th>\n",
       "      <td>NaN</td>\n",
       "      <td>Alabama</td>\n",
       "      <td>1</td>\n",
       "      <td>1-4 years</td>\n",
       "      <td>1</td>\n",
       "      <td>M</td>\n",
       "      <td>1002-5</td>\n",
       "      <td>10</td>\n",
       "      <td>1001</td>\n",
       "      <td>10000.0</td>\n",
       "    </tr>\n",
       "  </tbody>\n",
       "</table>\n",
       "</div>"
      ],
      "text/plain": [
       "                                         Notes    State  State Code  \\\n",
       "Gender Race                                                           \n",
       "Female American Indian or Alaska Native    NaN  Alabama           1   \n",
       "       Asian or Pacific Islander           NaN  Alabama           1   \n",
       "       Black or African American           NaN  Alabama           1   \n",
       "       White                               NaN  Alabama           1   \n",
       "Male   American Indian or Alaska Native    NaN  Alabama           1   \n",
       "\n",
       "                                        Ten-Year Age Groups  \\\n",
       "Gender Race                                                   \n",
       "Female American Indian or Alaska Native           1-4 years   \n",
       "       Asian or Pacific Islander                  1-4 years   \n",
       "       Black or African American                  1-4 years   \n",
       "       White                                      1-4 years   \n",
       "Male   American Indian or Alaska Native           1-4 years   \n",
       "\n",
       "                                        Ten-Year Age Groups Code Gender Code  \\\n",
       "Gender Race                                                                    \n",
       "Female American Indian or Alaska Native                        1           F   \n",
       "       Asian or Pacific Islander                               1           F   \n",
       "       Black or African American                               1           F   \n",
       "       White                                                   1           F   \n",
       "Male   American Indian or Alaska Native                        1           M   \n",
       "\n",
       "                                        Race Code  Deaths Population  \\\n",
       "Gender Race                                                            \n",
       "Female American Indian or Alaska Native    1002-5      10     100285   \n",
       "       Asian or Pacific Islander             A-PI      10     100371   \n",
       "       Black or African American           2054-5      10     100170   \n",
       "       White                               2106-3      12    1000704   \n",
       "Male   American Indian or Alaska Native    1002-5      10       1001   \n",
       "\n",
       "                                        Crude Rate  \n",
       "Gender Race                                         \n",
       "Female American Indian or Alaska Native       10.4  \n",
       "       Asian or Pacific Islander              10.1  \n",
       "       Black or African American             100.3  \n",
       "       White                                  10.1  \n",
       "Male   American Indian or Alaska Native    10000.0  "
      ]
     },
     "execution_count": 45,
     "metadata": {},
     "output_type": "execute_result"
    }
   ],
   "source": [
    "df.groupby(['Gender','Race']).min().head() # Your code here\n",
    "# Your code here\n"
   ]
  },
  {
   "cell_type": "markdown",
   "metadata": {},
   "source": [
    "## 4) Create a bar chart of the total number of deaths by state.\n",
    "* Sort your columns in order (ascending or descending are both acceptable).  \n",
    "* Also make sure to include a title, axes labels and have your graph be an appropriate size.\n",
    "\n",
    "**_NOTE:_** In order to do this, slice the `Deaths` column after the `.groupby()` method, but before the `sum()` method.  You can even chain the `.plot()` call on after the `sum()` call and do this all on one line, excluding the labeling of the graph!"
   ]
  },
  {
   "cell_type": "code",
   "execution_count": 47,
   "metadata": {},
   "outputs": [
    {
     "data": {
      "text/plain": [
       "Text(0.5, 1.0, 'Deaths by State')"
      ]
     },
     "execution_count": 47,
     "metadata": {},
     "output_type": "execute_result"
    },
    {
     "data": {
      "image/png": "[encoded data removed]",
      "text/plain": [
       "<Figure size 720x576 with 1 Axes>"
      ]
     },
     "metadata": {
      "needs_background": "light"
     },
     "output_type": "display_data"
    }
   ],
   "source": [
    "df.groupby(['State'])['Deaths'].sum().sort_values().plot(kind='bar', figsize=(10,8)) #Your code here\n",
    "plt.xlabel(\"State\") \n",
    "plt.ylabel(\"Deaths\") \n",
    "plt.title(\"Deaths by State\") \n"
   ]
  },
  {
   "cell_type": "markdown",
   "metadata": {},
   "source": [
    "### Inspecting our Data\n",
    "\n",
    "Let's go one step further and get a print-out of the data type of each column. \n",
    "\n",
    "In the cell below, get the `.info()` of our DataFrame, and note the data type that each column is currently stored as.  "
   ]
  },
  {
   "cell_type": "code",
   "execution_count": 20,
   "metadata": {},
   "outputs": [
    {
     "name": "stdout",
     "output_type": "stream",
     "text": [
      "<class 'pandas.core.frame.DataFrame'>\n",
      "RangeIndex: 4115 entries, 0 to 4114\n",
      "Data columns (total 12 columns):\n",
      "Notes                       0 non-null float64\n",
      "State                       4115 non-null object\n",
      "State Code                  4115 non-null int64\n",
      "Ten-Year Age Groups         4115 non-null object\n",
      "Ten-Year Age Groups Code    4115 non-null object\n",
      "Gender                      4115 non-null object\n",
      "Gender Code                 4115 non-null object\n",
      "Race                        4115 non-null object\n",
      "Race Code                   4115 non-null object\n",
      "Deaths                      4115 non-null int64\n",
      "Population                  4115 non-null object\n",
      "Crude Rate                  4115 non-null object\n",
      "dtypes: float64(1), int64(2), object(9)\n",
      "memory usage: 385.9+ KB\n"
     ]
    }
   ],
   "source": [
    "df.info()"
   ]
  },
  {
   "cell_type": "markdown",
   "metadata": {},
   "source": [
    "Let's look at some samples from the Population column to see if the current encoding seems appropriate for the data it contains. \n",
    "\n",
    "In the cell below, display the population values for the first 5 rows in the DataFrame.  "
   ]
  },
  {
   "cell_type": "code",
   "execution_count": 36,
   "metadata": {},
   "outputs": [
    {
     "data": {
      "text/plain": [
       "0      3579\n",
       "1      7443\n",
       "2    169339\n",
       "3    347921\n",
       "4      7366\n",
       "Name: Population, dtype: object"
      ]
     },
     "execution_count": 36,
     "metadata": {},
     "output_type": "execute_result"
    }
   ],
   "source": [
    "df['Population'].head()"
   ]
  },
  {
   "cell_type": "markdown",
   "metadata": {},
   "source": [
    "Just to be extra sure, let's check the value counts to see how many times each unqiue value shows up in the dataset. We'll only look at the top 5. \n",
    "\n",
    "In the cell below, print out the top 5 `value_counts()` of the population column of the DataFrame. "
   ]
  },
  {
   "cell_type": "code",
   "execution_count": 38,
   "metadata": {},
   "outputs": [
    {
     "data": {
      "text/plain": [
       "Not Applicable    75\n",
       "11680              2\n",
       "4258               2\n",
       "113598             2\n",
       "85539              2\n",
       "Name: Population, dtype: int64"
      ]
     },
     "execution_count": 38,
     "metadata": {},
     "output_type": "execute_result"
    }
   ],
   "source": [
    "df['Population'].value_counts().head()"
   ]
  },
  {
   "cell_type": "markdown",
   "metadata": {},
   "source": [
    "Clearly, this data should be stored as a numeric type, not a categorical type.  \n",
    "\n",
    "### 5a) Reformat the Population Column as an Integer\n",
    "As stands, not all values will be able to be reformated as integers. Most of the cells in the the `Population` column contain integer values, but the entire column is currently encoded in string format because some cells contain the string `\"Not Applicable\"`.\n",
    "\n",
    "We need to remove these rows before we can cast the Population column to an Integer data type. \n",
    "\n",
    "In the cell below:\n",
    "\n",
    "* Slice the rows of `df` where the Population column is equal to `'Not Applicable'`.\n",
    "* Use `to_drop.index`  to drop the offending rows from `df`. Be sure to set the `axis=0`, and `inplace=True`\n",
    "* Cast the Population column to an integer data type using the `.astype()` function, with the single parameter `int64` passed in. \n",
    "* Print the Population column's `dtype` attribute to confirm it is now stored in `int64` format. \n",
    "\n",
    "**_NOTE:_** `.astype()` returns a copy of the column, so make sure you set the Population column equal to what this method returns--don't just call it!"
   ]
  },
  {
   "cell_type": "code",
   "execution_count": 50,
   "metadata": {},
   "outputs": [
    {
     "name": "stdout",
     "output_type": "stream",
     "text": [
      "int64\n"
     ]
    }
   ],
   "source": [
    "#Your code here\n",
    "to_drop = df[df['Population'] == 'Not Applicable']\n",
    "df.drop(to_drop.index, axis=0, inplace=True)\n",
    "df['Population'] = df['Population'].astype(int)\n",
    "print(df['Population'].dtype)\n",
    "\n"
   ]
  },
  {
   "cell_type": "markdown",
   "metadata": {},
   "source": [
    "### 5b) Complete the Bar Chart\n",
    "\n",
    "Now that we've reformatted our data, let's create a bar chart of the of the Mean Population by State."
   ]
  },
  {
   "cell_type": "code",
   "execution_count": 51,
   "metadata": {},
   "outputs": [
    {
     "data": {
      "text/plain": [
       "Text(0.5, 1.0, 'Population by State')"
      ]
     },
     "execution_count": 51,
     "metadata": {},
     "output_type": "execute_result"
    },
    {
     "data": {
      "image/png": "[encoded data removed]",
      "text/plain": [
       "<Figure size 720x576 with 1 Axes>"
      ]
     },
     "metadata": {
      "needs_background": "light"
     },
     "output_type": "display_data"
    }
   ],
   "source": [
    "df.groupby(['State'])['Population'].mean().sort_values().plot(kind='bar', figsize=(10,8)) #Your code here\n",
    "plt.xlabel(\"State\") \n",
    "plt.ylabel(\"Population\") \n",
    "plt.title(\"Population by State\") #Your code here\n"
   ]
  },
  {
   "cell_type": "markdown",
   "metadata": {},
   "source": [
    "Below we will investigate how we can combine the **pivot** method along with the **groupby** method to combine some cool **stacked bar charts**!\n",
    "\n",
    "### Using Aggregate Functions\n",
    "\n",
    "In the cell below:\n",
    "\n",
    "* Group `df` by `'State'` and  `'Gender'`, and then slice both `'Death'` and `'Population'` from it. Chain the `.agg()` method to return the mean, min, max, and standard deviation these sliced columns. \n",
    "\n",
    "**_NOTE:_** This only requires one line of code.  \n",
    "\n",
    "By now, you've probably caught on that the code required to do this follows this pattern:    `([things to group by])[columns to slice].agg([aggregates to return])`\n",
    "\n",
    "Then, display the head of this of this new DataFrame."
   ]
  },
  {
   "cell_type": "code",
   "execution_count": 148,
   "metadata": {},
   "outputs": [
    {
     "data": {
      "text/html": [
       "<div>\n",
       "<style scoped>\n",
       "    .dataframe tbody tr th:only-of-type {\n",
       "        vertical-align: middle;\n",
       "    }\n",
       "\n",
       "    .dataframe tbody tr th {\n",
       "        vertical-align: top;\n",
       "    }\n",
       "\n",
       "    .dataframe thead tr th {\n",
       "        text-align: left;\n",
       "    }\n",
       "\n",
       "    .dataframe thead tr:last-of-type th {\n",
       "        text-align: right;\n",
       "    }\n",
       "</style>\n",
       "<table border=\"1\" class=\"dataframe\">\n",
       "  <thead>\n",
       "    <tr>\n",
       "      <th></th>\n",
       "      <th></th>\n",
       "      <th colspan=\"4\" halign=\"left\">Deaths</th>\n",
       "    </tr>\n",
       "    <tr>\n",
       "      <th></th>\n",
       "      <th></th>\n",
       "      <th>mean</th>\n",
       "      <th>min</th>\n",
       "      <th>max</th>\n",
       "      <th>std</th>\n",
       "    </tr>\n",
       "    <tr>\n",
       "      <th>State</th>\n",
       "      <th>Gender</th>\n",
       "      <th></th>\n",
       "      <th></th>\n",
       "      <th></th>\n",
       "      <th></th>\n",
       "    </tr>\n",
       "  </thead>\n",
       "  <tbody>\n",
       "    <tr>\n",
       "      <th rowspan=\"2\" valign=\"top\">Alabama</th>\n",
       "      <th>Female</th>\n",
       "      <td>10753.325000</td>\n",
       "      <td>10</td>\n",
       "      <td>116297</td>\n",
       "      <td>24612.250487</td>\n",
       "    </tr>\n",
       "    <tr>\n",
       "      <th>Male</th>\n",
       "      <td>10503.585366</td>\n",
       "      <td>10</td>\n",
       "      <td>88930</td>\n",
       "      <td>20620.218089</td>\n",
       "    </tr>\n",
       "    <tr>\n",
       "      <th rowspan=\"2\" valign=\"top\">Alaska</th>\n",
       "      <th>Female</th>\n",
       "      <td>679.975000</td>\n",
       "      <td>13</td>\n",
       "      <td>4727</td>\n",
       "      <td>1154.870455</td>\n",
       "    </tr>\n",
       "    <tr>\n",
       "      <th>Male</th>\n",
       "      <td>860.357143</td>\n",
       "      <td>12</td>\n",
       "      <td>5185</td>\n",
       "      <td>1411.777392</td>\n",
       "    </tr>\n",
       "    <tr>\n",
       "      <th>Arizona</th>\n",
       "      <th>Female</th>\n",
       "      <td>8800.622222</td>\n",
       "      <td>21</td>\n",
       "      <td>133923</td>\n",
       "      <td>25979.871632</td>\n",
       "    </tr>\n",
       "  </tbody>\n",
       "</table>\n",
       "</div>"
      ],
      "text/plain": [
       "                      Deaths                          \n",
       "                        mean min     max           std\n",
       "State   Gender                                        \n",
       "Alabama Female  10753.325000  10  116297  24612.250487\n",
       "        Male    10503.585366  10   88930  20620.218089\n",
       "Alaska  Female    679.975000  13    4727   1154.870455\n",
       "        Male      860.357143  12    5185   1411.777392\n",
       "Arizona Female   8800.622222  21  133923  25979.871632"
      ]
     },
     "execution_count": 148,
     "metadata": {},
     "output_type": "execute_result"
    }
   ],
   "source": [
    "# A sample groupby similar to above. \n",
    "grouped = df.groupby(['State','Gender'])['Deaths','Population'].agg(['mean','min','max','std'])\n",
    "grouped.head()"
   ]
  },
  {
   "cell_type": "markdown",
   "metadata": {},
   "source": [
    "Note how Pandas denotes a multi-hierarchical index in the DataFrame above.  \n",
    "\n",
    "Let's inspect how a multi-hierarchical index is actually stored.  \n",
    "\n",
    "In the cell below, display the `index` attribute of this DataFrame. "
   ]
  },
  {
   "cell_type": "code",
   "execution_count": 102,
   "metadata": {},
   "outputs": [
    {
     "data": {
      "text/plain": [
       "MultiIndex(levels=[['Alabama', 'Alaska', 'Arizona', 'Arkansas', 'California', 'Colorado', 'Connecticut', 'Delaware', 'District of Columbia', 'Florida', 'Georgia', 'Hawaii', 'Idaho', 'Illinois', 'Indiana', 'Iowa', 'Kansas', 'Kentucky', 'Louisiana', 'Maine', 'Maryland', 'Massachusetts', 'Michigan', 'Minnesota', 'Mississippi', 'Missouri', 'Montana', 'Nebraska', 'Nevada', 'New Hampshire', 'New Jersey', 'New Mexico', 'New York', 'North Carolina', 'North Dakota', 'Ohio', 'Oklahoma', 'Oregon', 'Pennsylvania', 'Rhode Island', 'South Carolina', 'South Dakota', 'Tennessee', 'Texas', 'Utah', 'Vermont', 'Virginia', 'Washington', 'West Virginia', 'Wisconsin', 'Wyoming'], ['Female', 'Male']],\n",
       "           labels=[[0, 0, 1, 1, 2, 2, 3, 3, 4, 4, 5, 5, 6, 6, 7, 7, 8, 8, 9, 9, 10, 10, 11, 11, 12, 12, 13, 13, 14, 14, 15, 15, 16, 16, 17, 17, 18, 18, 19, 19, 20, 20, 21, 21, 22, 22, 23, 23, 24, 24, 25, 25, 26, 26, 27, 27, 28, 28, 29, 29, 30, 30, 31, 31, 32, 32, 33, 33, 34, 34, 35, 35, 36, 36, 37, 37, 38, 38, 39, 39, 40, 40, 41, 41, 42, 42, 43, 43, 44, 44, 45, 45, 46, 46, 47, 47, 48, 48, 49, 49, 50, 50], [0, 1, 0, 1, 0, 1, 0, 1, 0, 1, 0, 1, 0, 1, 0, 1, 0, 1, 0, 1, 0, 1, 0, 1, 0, 1, 0, 1, 0, 1, 0, 1, 0, 1, 0, 1, 0, 1, 0, 1, 0, 1, 0, 1, 0, 1, 0, 1, 0, 1, 0, 1, 0, 1, 0, 1, 0, 1, 0, 1, 0, 1, 0, 1, 0, 1, 0, 1, 0, 1, 0, 1, 0, 1, 0, 1, 0, 1, 0, 1, 0, 1, 0, 1, 0, 1, 0, 1, 0, 1, 0, 1, 0, 1, 0, 1, 0, 1, 0, 1, 0, 1]],\n",
       "           names=['State', 'Gender'])"
      ]
     },
     "execution_count": 102,
     "metadata": {},
     "output_type": "execute_result"
    }
   ],
   "source": [
    "grouped.index"
   ]
  },
  {
   "cell_type": "markdown",
   "metadata": {},
   "source": [
    "A two-dimensional array denotes the multiple levels, with each possible combination being a row in our `grouped` DataFrame.  \n",
    "\n",
    "Let's reset the index, and then see how it changes. \n",
    "\n",
    "In the cell below, call the DataFrame's `reset_index()` function.  Then, display the head of the DataFrame.  "
   ]
  },
  {
   "cell_type": "code",
   "execution_count": 103,
   "metadata": {},
   "outputs": [
    {
     "data": {
      "text/html": [
       "<div>\n",
       "<style scoped>\n",
       "    .dataframe tbody tr th:only-of-type {\n",
       "        vertical-align: middle;\n",
       "    }\n",
       "\n",
       "    .dataframe tbody tr th {\n",
       "        vertical-align: top;\n",
       "    }\n",
       "\n",
       "    .dataframe thead tr th {\n",
       "        text-align: left;\n",
       "    }\n",
       "</style>\n",
       "<table border=\"1\" class=\"dataframe\">\n",
       "  <thead>\n",
       "    <tr>\n",
       "      <th></th>\n",
       "      <th>State</th>\n",
       "      <th>Gender</th>\n",
       "      <th colspan=\"4\" halign=\"left\">Deaths</th>\n",
       "    </tr>\n",
       "    <tr>\n",
       "      <th></th>\n",
       "      <th></th>\n",
       "      <th></th>\n",
       "      <th>mean</th>\n",
       "      <th>min</th>\n",
       "      <th>max</th>\n",
       "      <th>std</th>\n",
       "    </tr>\n",
       "  </thead>\n",
       "  <tbody>\n",
       "    <tr>\n",
       "      <th>0</th>\n",
       "      <td>Alabama</td>\n",
       "      <td>Female</td>\n",
       "      <td>10753.325000</td>\n",
       "      <td>10</td>\n",
       "      <td>116297</td>\n",
       "      <td>24612.250487</td>\n",
       "    </tr>\n",
       "    <tr>\n",
       "      <th>1</th>\n",
       "      <td>Alabama</td>\n",
       "      <td>Male</td>\n",
       "      <td>10503.585366</td>\n",
       "      <td>10</td>\n",
       "      <td>88930</td>\n",
       "      <td>20620.218089</td>\n",
       "    </tr>\n",
       "    <tr>\n",
       "      <th>2</th>\n",
       "      <td>Alaska</td>\n",
       "      <td>Female</td>\n",
       "      <td>679.975000</td>\n",
       "      <td>13</td>\n",
       "      <td>4727</td>\n",
       "      <td>1154.870455</td>\n",
       "    </tr>\n",
       "    <tr>\n",
       "      <th>3</th>\n",
       "      <td>Alaska</td>\n",
       "      <td>Male</td>\n",
       "      <td>860.357143</td>\n",
       "      <td>12</td>\n",
       "      <td>5185</td>\n",
       "      <td>1411.777392</td>\n",
       "    </tr>\n",
       "    <tr>\n",
       "      <th>4</th>\n",
       "      <td>Arizona</td>\n",
       "      <td>Female</td>\n",
       "      <td>8800.622222</td>\n",
       "      <td>21</td>\n",
       "      <td>133923</td>\n",
       "      <td>25979.871632</td>\n",
       "    </tr>\n",
       "  </tbody>\n",
       "</table>\n",
       "</div>"
      ],
      "text/plain": [
       "     State  Gender        Deaths                          \n",
       "                            mean min     max           std\n",
       "0  Alabama  Female  10753.325000  10  116297  24612.250487\n",
       "1  Alabama    Male  10503.585366  10   88930  20620.218089\n",
       "2   Alaska  Female    679.975000  13    4727   1154.870455\n",
       "3   Alaska    Male    860.357143  12    5185   1411.777392\n",
       "4  Arizona  Female   8800.622222  21  133923  25979.871632"
      ]
     },
     "execution_count": 103,
     "metadata": {},
     "output_type": "execute_result"
    }
   ],
   "source": [
    "# First, reset the index. Notice the subtle difference; State and Gender are now columns rather then the index.\n",
    "grouped = grouped.reset_index()\n",
    "grouped.head()"
   ]
  },
  {
   "cell_type": "markdown",
   "metadata": {},
   "source": [
    "Note how the way the index is displayed has changed.  The index columns that made up the multi-hierarchical index before are now stored as columns of data, with each row given a more traditional numerical index. \n",
    "\n",
    "Let's confirm this by reexamining the `index` attribute of `grouped` in the cell below."
   ]
  },
  {
   "cell_type": "code",
   "execution_count": 104,
   "metadata": {},
   "outputs": [
    {
     "data": {
      "text/plain": [
       "RangeIndex(start=0, stop=102, step=1)"
      ]
     },
     "execution_count": 104,
     "metadata": {},
     "output_type": "execute_result"
    }
   ],
   "source": [
    "grouped.index"
   ]
  },
  {
   "cell_type": "markdown",
   "metadata": {},
   "source": [
    "However, look again at the displayed DataFrame--specifically, the columns.  Resetting the index has caused the DataFrame to use a mutlti-indexed structure for the columns. \n",
    "\n",
    "In the cell below, examine the `columns` attribute of `grouped` to confirm this. "
   ]
  },
  {
   "cell_type": "code",
   "execution_count": 105,
   "metadata": {},
   "outputs": [
    {
     "data": {
      "text/plain": [
       "MultiIndex(levels=[['Deaths', 'Gender', 'State'], ['mean', 'min', 'max', 'std', '']],\n",
       "           labels=[[2, 1, 0, 0, 0, 0], [4, 4, 0, 1, 2, 3]])"
      ]
     },
     "execution_count": 105,
     "metadata": {},
     "output_type": "execute_result"
    }
   ],
   "source": [
    "#Notice that this causes columns to be MultiIndexed!\n",
    "grouped.columns"
   ]
  },
  {
   "cell_type": "markdown",
   "metadata": {},
   "source": [
    "#### Column Levels\n",
    "\n",
    "Since we're working with miulti-hierarchical indices, we can examine the indices available at each level.\n",
    "\n",
    "In the cell below, use the `get_level_values` method contained within the DataFrame's `columns` object to get the values for the outermost layer of the index. "
   ]
  },
  {
   "cell_type": "code",
   "execution_count": 106,
   "metadata": {},
   "outputs": [
    {
     "data": {
      "text/plain": [
       "Index(['State', 'Gender', 'Deaths', 'Deaths', 'Deaths', 'Deaths'], dtype='object')"
      ]
     },
     "execution_count": 106,
     "metadata": {},
     "output_type": "execute_result"
    }
   ],
   "source": [
    "grouped.columns.get_level_values(0)"
   ]
  },
  {
   "cell_type": "markdown",
   "metadata": {},
   "source": [
    "Now, get the level values for the inner layer of the index. "
   ]
  },
  {
   "cell_type": "code",
   "execution_count": 107,
   "metadata": {},
   "outputs": [
    {
     "data": {
      "text/plain": [
       "Index(['', '', 'mean', 'min', 'max', 'std'], dtype='object')"
      ]
     },
     "execution_count": 107,
     "metadata": {},
     "output_type": "execute_result"
    }
   ],
   "source": [
    "grouped.columns.get_level_values(1)"
   ]
  },
  {
   "cell_type": "markdown",
   "metadata": {},
   "source": [
    "### Flattening the DataFrame\n",
    "\n",
    "We can also **_flatten_** the DataFrame from a multi-hierarchical index to more traditional one-dimensional index.  We do this by creating each unique combination possible of every level of the multi-hierarchical index.  Since this is a complex task, you do not need to write it--but take some time to examine the code in the cell below and see if you can understand how it works! "
   ]
  },
  {
   "cell_type": "code",
   "execution_count": 108,
   "metadata": {},
   "outputs": [
    {
     "data": {
      "text/plain": [
       "Index(['State', 'Gender', 'Deaths_mean', 'Deaths_min', 'Deaths_max',\n",
       "       'Deaths_std'],\n",
       "      dtype='object')"
      ]
     },
     "execution_count": 108,
     "metadata": {},
     "output_type": "execute_result"
    }
   ],
   "source": [
    "#We could also flatten these:\n",
    "cols0 = grouped.columns.get_level_values(0)\n",
    "cols1 = grouped.columns.get_level_values(1)\n",
    "grouped.columns = [col0 + '_' + col1 if col1 != '' else col0 for col0, col1 in list(zip(cols0, cols1))]\n",
    "#The list comprehension above is more complicated then what we need but creates a nicer formatting and\n",
    "#demonstrates using a conditional within a list comprehension.\n",
    "#This simpler version works but has some tail underscores where col1 is blank:\n",
    "#grouped.columns = [col0 + '_' + col1 for col0, col1 in list(zip(cols0, cols1))]\n",
    "grouped.columns"
   ]
  },
  {
   "cell_type": "markdown",
   "metadata": {},
   "source": [
    "Now that we've flattened the DataFrame, let's inspect a couple rows to see what it looks like. \n",
    "\n",
    "In the cell below, inspect the head of the `grouped` DataFrame. "
   ]
  },
  {
   "cell_type": "code",
   "execution_count": 109,
   "metadata": {},
   "outputs": [
    {
     "data": {
      "text/html": [
       "<div>\n",
       "<style scoped>\n",
       "    .dataframe tbody tr th:only-of-type {\n",
       "        vertical-align: middle;\n",
       "    }\n",
       "\n",
       "    .dataframe tbody tr th {\n",
       "        vertical-align: top;\n",
       "    }\n",
       "\n",
       "    .dataframe thead th {\n",
       "        text-align: right;\n",
       "    }\n",
       "</style>\n",
       "<table border=\"1\" class=\"dataframe\">\n",
       "  <thead>\n",
       "    <tr style=\"text-align: right;\">\n",
       "      <th></th>\n",
       "      <th>State</th>\n",
       "      <th>Gender</th>\n",
       "      <th>Deaths_mean</th>\n",
       "      <th>Deaths_min</th>\n",
       "      <th>Deaths_max</th>\n",
       "      <th>Deaths_std</th>\n",
       "    </tr>\n",
       "  </thead>\n",
       "  <tbody>\n",
       "    <tr>\n",
       "      <th>0</th>\n",
       "      <td>Alabama</td>\n",
       "      <td>Female</td>\n",
       "      <td>10753.325000</td>\n",
       "      <td>10</td>\n",
       "      <td>116297</td>\n",
       "      <td>24612.250487</td>\n",
       "    </tr>\n",
       "    <tr>\n",
       "      <th>1</th>\n",
       "      <td>Alabama</td>\n",
       "      <td>Male</td>\n",
       "      <td>10503.585366</td>\n",
       "      <td>10</td>\n",
       "      <td>88930</td>\n",
       "      <td>20620.218089</td>\n",
       "    </tr>\n",
       "    <tr>\n",
       "      <th>2</th>\n",
       "      <td>Alaska</td>\n",
       "      <td>Female</td>\n",
       "      <td>679.975000</td>\n",
       "      <td>13</td>\n",
       "      <td>4727</td>\n",
       "      <td>1154.870455</td>\n",
       "    </tr>\n",
       "    <tr>\n",
       "      <th>3</th>\n",
       "      <td>Alaska</td>\n",
       "      <td>Male</td>\n",
       "      <td>860.357143</td>\n",
       "      <td>12</td>\n",
       "      <td>5185</td>\n",
       "      <td>1411.777392</td>\n",
       "    </tr>\n",
       "    <tr>\n",
       "      <th>4</th>\n",
       "      <td>Arizona</td>\n",
       "      <td>Female</td>\n",
       "      <td>8800.622222</td>\n",
       "      <td>21</td>\n",
       "      <td>133923</td>\n",
       "      <td>25979.871632</td>\n",
       "    </tr>\n",
       "  </tbody>\n",
       "</table>\n",
       "</div>"
      ],
      "text/plain": [
       "     State  Gender   Deaths_mean  Deaths_min  Deaths_max    Deaths_std\n",
       "0  Alabama  Female  10753.325000          10      116297  24612.250487\n",
       "1  Alabama    Male  10503.585366          10       88930  20620.218089\n",
       "2   Alaska  Female    679.975000          13        4727   1154.870455\n",
       "3   Alaska    Male    860.357143          12        5185   1411.777392\n",
       "4  Arizona  Female   8800.622222          21      133923  25979.871632"
      ]
     },
     "execution_count": 109,
     "metadata": {},
     "output_type": "execute_result"
    }
   ],
   "source": [
    "grouped.head()"
   ]
  },
  {
   "cell_type": "markdown",
   "metadata": {},
   "source": [
    "## Using Pivots\n",
    "\n",
    "Now, we'll gain some practice using the DataFrame class's built-in `.pivot()` method.  \n",
    "\n",
    "In the cell below, call the DataFrame's pivot method with the following parameters:\n",
    "\n",
    "* index = `'State'`\n",
    "* columns = `'Gender'`\n",
    "* values = `'Deaths_mean'`\n",
    "\n",
    "Then, display the head of our new `pivot` DataFrame to see what it looks like. "
   ]
  },
  {
   "cell_type": "code",
   "execution_count": 110,
   "metadata": {},
   "outputs": [
    {
     "data": {
      "text/html": [
       "<div>\n",
       "<style scoped>\n",
       "    .dataframe tbody tr th:only-of-type {\n",
       "        vertical-align: middle;\n",
       "    }\n",
       "\n",
       "    .dataframe tbody tr th {\n",
       "        vertical-align: top;\n",
       "    }\n",
       "\n",
       "    .dataframe thead th {\n",
       "        text-align: right;\n",
       "    }\n",
       "</style>\n",
       "<table border=\"1\" class=\"dataframe\">\n",
       "  <thead>\n",
       "    <tr style=\"text-align: right;\">\n",
       "      <th>Gender</th>\n",
       "      <th>Female</th>\n",
       "      <th>Male</th>\n",
       "    </tr>\n",
       "    <tr>\n",
       "      <th>State</th>\n",
       "      <th></th>\n",
       "      <th></th>\n",
       "    </tr>\n",
       "  </thead>\n",
       "  <tbody>\n",
       "    <tr>\n",
       "      <th>Alabama</th>\n",
       "      <td>10753.325000</td>\n",
       "      <td>10503.585366</td>\n",
       "    </tr>\n",
       "    <tr>\n",
       "      <th>Alaska</th>\n",
       "      <td>679.975000</td>\n",
       "      <td>860.357143</td>\n",
       "    </tr>\n",
       "    <tr>\n",
       "      <th>Arizona</th>\n",
       "      <td>8800.622222</td>\n",
       "      <td>9405.659574</td>\n",
       "    </tr>\n",
       "    <tr>\n",
       "      <th>Arkansas</th>\n",
       "      <td>6621.615385</td>\n",
       "      <td>6301.690476</td>\n",
       "    </tr>\n",
       "    <tr>\n",
       "      <th>California</th>\n",
       "      <td>45233.297872</td>\n",
       "      <td>46406.297872</td>\n",
       "    </tr>\n",
       "  </tbody>\n",
       "</table>\n",
       "</div>"
      ],
      "text/plain": [
       "Gender            Female          Male\n",
       "State                                 \n",
       "Alabama     10753.325000  10503.585366\n",
       "Alaska        679.975000    860.357143\n",
       "Arizona      8800.622222   9405.659574\n",
       "Arkansas     6621.615385   6301.690476\n",
       "California  45233.297872  46406.297872"
      ]
     },
     "execution_count": 110,
     "metadata": {},
     "output_type": "execute_result"
    }
   ],
   "source": [
    "# Now it's time to pivot!\n",
    "pivot = grouped.pivot(index='State', columns='Gender', values='Deaths_mean')\n",
    "pivot.head()"
   ]
  },
  {
   "cell_type": "markdown",
   "metadata": {},
   "source": [
    "Great! We've just created a pivot table.  \n",
    "\n",
    "Let's reset the index and see how it changes our pivot table. \n",
    "\n",
    "In the cell below, reset the index of the `pivot` object as we did previously.  Then, display the head of the object to see if we can detect any changes."
   ]
  },
  {
   "cell_type": "code",
   "execution_count": 112,
   "metadata": {},
   "outputs": [
    {
     "data": {
      "text/html": [
       "<div>\n",
       "<style scoped>\n",
       "    .dataframe tbody tr th:only-of-type {\n",
       "        vertical-align: middle;\n",
       "    }\n",
       "\n",
       "    .dataframe tbody tr th {\n",
       "        vertical-align: top;\n",
       "    }\n",
       "\n",
       "    .dataframe thead th {\n",
       "        text-align: right;\n",
       "    }\n",
       "</style>\n",
       "<table border=\"1\" class=\"dataframe\">\n",
       "  <thead>\n",
       "    <tr style=\"text-align: right;\">\n",
       "      <th>Gender</th>\n",
       "      <th>State</th>\n",
       "      <th>Female</th>\n",
       "      <th>Male</th>\n",
       "    </tr>\n",
       "  </thead>\n",
       "  <tbody>\n",
       "    <tr>\n",
       "      <th>0</th>\n",
       "      <td>Alabama</td>\n",
       "      <td>10753.325000</td>\n",
       "      <td>10503.585366</td>\n",
       "    </tr>\n",
       "    <tr>\n",
       "      <th>1</th>\n",
       "      <td>Alaska</td>\n",
       "      <td>679.975000</td>\n",
       "      <td>860.357143</td>\n",
       "    </tr>\n",
       "    <tr>\n",
       "      <th>2</th>\n",
       "      <td>Arizona</td>\n",
       "      <td>8800.622222</td>\n",
       "      <td>9405.659574</td>\n",
       "    </tr>\n",
       "    <tr>\n",
       "      <th>3</th>\n",
       "      <td>Arkansas</td>\n",
       "      <td>6621.615385</td>\n",
       "      <td>6301.690476</td>\n",
       "    </tr>\n",
       "    <tr>\n",
       "      <th>4</th>\n",
       "      <td>California</td>\n",
       "      <td>45233.297872</td>\n",
       "      <td>46406.297872</td>\n",
       "    </tr>\n",
       "  </tbody>\n",
       "</table>\n",
       "</div>"
      ],
      "text/plain": [
       "Gender       State        Female          Male\n",
       "0          Alabama  10753.325000  10503.585366\n",
       "1           Alaska    679.975000    860.357143\n",
       "2          Arizona   8800.622222   9405.659574\n",
       "3         Arkansas   6621.615385   6301.690476\n",
       "4       California  45233.297872  46406.297872"
      ]
     },
     "execution_count": 112,
     "metadata": {},
     "output_type": "execute_result"
    }
   ],
   "source": [
    "# Again, notice the subtle difference of reseting the index:\n",
    "pivot2 = pivot.reset_index()\n",
    "pivot2.head()"
   ]
  },
  {
   "cell_type": "markdown",
   "metadata": {},
   "source": [
    "### Visualizing Data With Pivot Tables\n",
    "\n",
    "Now, we'll make use of our newly created pivot table to quickly create some visualizations of our data.  \n",
    "\n",
    "In the cell below, call `pivot.plot()` with the following parameters:\n",
    "\n",
    "* kind = `'barh'`\n",
    "* figsize = `(15,8)`"
   ]
  },
  {
   "cell_type": "code",
   "execution_count": 114,
   "metadata": {},
   "outputs": [
    {
     "data": {
      "text/plain": [
       "<matplotlib.axes._subplots.AxesSubplot at 0x116fe5358>"
      ]
     },
     "execution_count": 114,
     "metadata": {},
     "output_type": "execute_result"
    },
    {
     "data": {
      "image/png": "[encoded data removed]",
      "text/plain": [
       "<Figure size 1080x576 with 1 Axes>"
      ]
     },
     "metadata": {
      "needs_background": "light"
     },
     "output_type": "display_data"
    }
   ],
   "source": [
    "# Now let's make a sweet bar chart!!\n",
    "pivot2.plot(kind='barh', figsize=(15,8))"
   ]
  },
  {
   "cell_type": "markdown",
   "metadata": {},
   "source": [
    "Notice the Y-axis is currently just a list of numbers.  That's because when we reset the index, it defaulted to assigning integers as the index for the DataFrame.  Let's set the index back to `'State'`, and then recreate the visualization. \n",
    "\n",
    "In the cell below:\n",
    "\n",
    "* Use the `pivot` object's `set_index()` method and set the index to `'State'`.  Then, chain this with a `.plot()` call to recreate the visualization using the code we used in the cell above.  \n",
    "\n",
    "All the code in this cell should be done in a single line.  Just call the methods--do not rebind `pivot` to be equal to this line of code. "
   ]
  },
  {
   "cell_type": "code",
   "execution_count": 116,
   "metadata": {},
   "outputs": [
    {
     "data": {
      "text/plain": [
       "<matplotlib.axes._subplots.AxesSubplot at 0x11779f518>"
      ]
     },
     "execution_count": 116,
     "metadata": {},
     "output_type": "execute_result"
    },
    {
     "data": {
      "image/png": "[encoded data removed]",
      "text/plain": [
       "<Figure size 1080x576 with 1 Axes>"
      ]
     },
     "metadata": {
      "needs_background": "light"
     },
     "output_type": "display_data"
    }
   ],
   "source": [
    "#Where's the states?! Notice the y-axis is just a list of numbers.\n",
    "#This is populated by the DataFrame's index.\n",
    "#When we used the .reset_index() method, we created a new numbered index to name each row. \n",
    "#Let's fix that by making state the index again.\n",
    "pivot2.set_index('State').plot(kind='barh', figsize=(15,8))"
   ]
  },
  {
   "cell_type": "markdown",
   "metadata": {},
   "source": [
    "Now, that we've created a visualization with the states as the y-axis, let's print out the head of the `pivot` object again. "
   ]
  },
  {
   "cell_type": "code",
   "execution_count": 117,
   "metadata": {},
   "outputs": [
    {
     "data": {
      "text/html": [
       "<div>\n",
       "<style scoped>\n",
       "    .dataframe tbody tr th:only-of-type {\n",
       "        vertical-align: middle;\n",
       "    }\n",
       "\n",
       "    .dataframe tbody tr th {\n",
       "        vertical-align: top;\n",
       "    }\n",
       "\n",
       "    .dataframe thead th {\n",
       "        text-align: right;\n",
       "    }\n",
       "</style>\n",
       "<table border=\"1\" class=\"dataframe\">\n",
       "  <thead>\n",
       "    <tr style=\"text-align: right;\">\n",
       "      <th>Gender</th>\n",
       "      <th>State</th>\n",
       "      <th>Female</th>\n",
       "      <th>Male</th>\n",
       "    </tr>\n",
       "  </thead>\n",
       "  <tbody>\n",
       "    <tr>\n",
       "      <th>0</th>\n",
       "      <td>Alabama</td>\n",
       "      <td>10753.325000</td>\n",
       "      <td>10503.585366</td>\n",
       "    </tr>\n",
       "    <tr>\n",
       "      <th>1</th>\n",
       "      <td>Alaska</td>\n",
       "      <td>679.975000</td>\n",
       "      <td>860.357143</td>\n",
       "    </tr>\n",
       "    <tr>\n",
       "      <th>2</th>\n",
       "      <td>Arizona</td>\n",
       "      <td>8800.622222</td>\n",
       "      <td>9405.659574</td>\n",
       "    </tr>\n",
       "    <tr>\n",
       "      <th>3</th>\n",
       "      <td>Arkansas</td>\n",
       "      <td>6621.615385</td>\n",
       "      <td>6301.690476</td>\n",
       "    </tr>\n",
       "    <tr>\n",
       "      <th>4</th>\n",
       "      <td>California</td>\n",
       "      <td>45233.297872</td>\n",
       "      <td>46406.297872</td>\n",
       "    </tr>\n",
       "  </tbody>\n",
       "</table>\n",
       "</div>"
      ],
      "text/plain": [
       "Gender       State        Female          Male\n",
       "0          Alabama  10753.325000  10503.585366\n",
       "1           Alaska    679.975000    860.357143\n",
       "2          Arizona   8800.622222   9405.659574\n",
       "3         Arkansas   6621.615385   6301.690476\n",
       "4       California  45233.297872  46406.297872"
      ]
     },
     "execution_count": 117,
     "metadata": {},
     "output_type": "execute_result"
    }
   ],
   "source": [
    "# Also notice that if we call the DataFrame pivot again, state is not it's index.\n",
    "#The above method returned a DataFrame with State as index and we plotted it,\n",
    "#but it did not update the DataFrame itself.\n",
    "pivot2.head()"
   ]
  },
  {
   "cell_type": "markdown",
   "metadata": {},
   "source": [
    "Note that the index has not changed.  That's because the code we wrote when we set the index to the 'State' column returns a copy of the DataFrame object with the index set to 'State'--by default, it does not mutate original `pivot` object.  \n",
    "\n",
    "If we want to do that, we'll need to capture the new object returned by updating the contents of the `pivot` variable.  \n",
    "\n",
    "In the cell below, set the index of `pivot` to `'State'`.  Then, recreate the bar plot using this new object.  "
   ]
  },
  {
   "cell_type": "code",
   "execution_count": 120,
   "metadata": {},
   "outputs": [
    {
     "data": {
      "text/plain": [
       "<matplotlib.axes._subplots.AxesSubplot at 0x117b83d68>"
      ]
     },
     "execution_count": 120,
     "metadata": {},
     "output_type": "execute_result"
    },
    {
     "data": {
      "image/png": "[encoded data removed]",
      "text/plain": [
       "<Figure size 1080x576 with 1 Axes>"
      ]
     },
     "metadata": {
      "needs_background": "light"
     },
     "output_type": "display_data"
    }
   ],
   "source": [
    "#If we wanted to more permanently change the index we would set it first and then plot:\n",
    "pivot = pivot2.set_index('State')\n",
    "pivot.plot(kind='barh',figsize=(15,8))"
   ]
  },
  {
   "cell_type": "markdown",
   "metadata": {},
   "source": [
    "Again, let's check the head of the DataFrame to confirm that the index structure has changed.  "
   ]
  },
  {
   "cell_type": "code",
   "execution_count": 121,
   "metadata": {},
   "outputs": [
    {
     "data": {
      "text/html": [
       "<div>\n",
       "<style scoped>\n",
       "    .dataframe tbody tr th:only-of-type {\n",
       "        vertical-align: middle;\n",
       "    }\n",
       "\n",
       "    .dataframe tbody tr th {\n",
       "        vertical-align: top;\n",
       "    }\n",
       "\n",
       "    .dataframe thead th {\n",
       "        text-align: right;\n",
       "    }\n",
       "</style>\n",
       "<table border=\"1\" class=\"dataframe\">\n",
       "  <thead>\n",
       "    <tr style=\"text-align: right;\">\n",
       "      <th>Gender</th>\n",
       "      <th>Female</th>\n",
       "      <th>Male</th>\n",
       "    </tr>\n",
       "    <tr>\n",
       "      <th>State</th>\n",
       "      <th></th>\n",
       "      <th></th>\n",
       "    </tr>\n",
       "  </thead>\n",
       "  <tbody>\n",
       "    <tr>\n",
       "      <th>Alabama</th>\n",
       "      <td>10753.325000</td>\n",
       "      <td>10503.585366</td>\n",
       "    </tr>\n",
       "    <tr>\n",
       "      <th>Alaska</th>\n",
       "      <td>679.975000</td>\n",
       "      <td>860.357143</td>\n",
       "    </tr>\n",
       "    <tr>\n",
       "      <th>Arizona</th>\n",
       "      <td>8800.622222</td>\n",
       "      <td>9405.659574</td>\n",
       "    </tr>\n",
       "    <tr>\n",
       "      <th>Arkansas</th>\n",
       "      <td>6621.615385</td>\n",
       "      <td>6301.690476</td>\n",
       "    </tr>\n",
       "    <tr>\n",
       "      <th>California</th>\n",
       "      <td>45233.297872</td>\n",
       "      <td>46406.297872</td>\n",
       "    </tr>\n",
       "  </tbody>\n",
       "</table>\n",
       "</div>"
      ],
      "text/plain": [
       "Gender            Female          Male\n",
       "State                                 \n",
       "Alabama     10753.325000  10503.585366\n",
       "Alaska        679.975000    860.357143\n",
       "Arizona      8800.622222   9405.659574\n",
       "Arkansas     6621.615385   6301.690476\n",
       "California  45233.297872  46406.297872"
      ]
     },
     "execution_count": 121,
     "metadata": {},
     "output_type": "execute_result"
    }
   ],
   "source": [
    "pivot.head()"
   ]
  },
  {
   "cell_type": "markdown",
   "metadata": {},
   "source": [
    "Finally, let's stack these bar charts to see how that looks. \n",
    "\n",
    "In the cell below, recreate the visualization we did in the cell above, but this time, also pass in `stacked=True` as a parameter. "
   ]
  },
  {
   "cell_type": "code",
   "execution_count": 130,
   "metadata": {},
   "outputs": [
    {
     "data": {
      "text/plain": [
       "<matplotlib.axes._subplots.AxesSubplot at 0x117d40ac8>"
      ]
     },
     "execution_count": 130,
     "metadata": {},
     "output_type": "execute_result"
    },
    {
     "data": {
      "image/png": "[encoded data removed]",
      "text/plain": [
       "<Figure size 1080x576 with 1 Axes>"
      ]
     },
     "metadata": {
      "needs_background": "light"
     },
     "output_type": "display_data"
    }
   ],
   "source": [
    "# Lastly, let's stack each of these bars for each state.\n",
    "#Notice we don't have to worry about index here, because we've already set it above.\n",
    "pivot.plot(kind='barh',figsize=(15,8), stacked=True)"
   ]
  },
  {
   "cell_type": "markdown",
   "metadata": {},
   "source": [
    "## Stacking and Unstacking DataFrames\n",
    "\n",
    "Now, let's get some practice stacking and unstacking DataFrames. \n",
    "\n",
    "### Stacking\n",
    "\n",
    "In the cell below, let's display the head of `grouped` to remind ourselves of the format we left it in. "
   ]
  },
  {
   "cell_type": "code",
   "execution_count": 129,
   "metadata": {},
   "outputs": [
    {
     "data": {
      "text/html": [
       "<div>\n",
       "<style scoped>\n",
       "    .dataframe tbody tr th:only-of-type {\n",
       "        vertical-align: middle;\n",
       "    }\n",
       "\n",
       "    .dataframe tbody tr th {\n",
       "        vertical-align: top;\n",
       "    }\n",
       "\n",
       "    .dataframe thead th {\n",
       "        text-align: right;\n",
       "    }\n",
       "</style>\n",
       "<table border=\"1\" class=\"dataframe\">\n",
       "  <thead>\n",
       "    <tr style=\"text-align: right;\">\n",
       "      <th></th>\n",
       "      <th>State</th>\n",
       "      <th>Gender</th>\n",
       "      <th>Deaths_mean</th>\n",
       "      <th>Deaths_min</th>\n",
       "      <th>Deaths_max</th>\n",
       "      <th>Deaths_std</th>\n",
       "    </tr>\n",
       "  </thead>\n",
       "  <tbody>\n",
       "    <tr>\n",
       "      <th>0</th>\n",
       "      <td>Alabama</td>\n",
       "      <td>Female</td>\n",
       "      <td>10753.325000</td>\n",
       "      <td>10</td>\n",
       "      <td>116297</td>\n",
       "      <td>24612.250487</td>\n",
       "    </tr>\n",
       "    <tr>\n",
       "      <th>1</th>\n",
       "      <td>Alabama</td>\n",
       "      <td>Male</td>\n",
       "      <td>10503.585366</td>\n",
       "      <td>10</td>\n",
       "      <td>88930</td>\n",
       "      <td>20620.218089</td>\n",
       "    </tr>\n",
       "    <tr>\n",
       "      <th>2</th>\n",
       "      <td>Alaska</td>\n",
       "      <td>Female</td>\n",
       "      <td>679.975000</td>\n",
       "      <td>13</td>\n",
       "      <td>4727</td>\n",
       "      <td>1154.870455</td>\n",
       "    </tr>\n",
       "    <tr>\n",
       "      <th>3</th>\n",
       "      <td>Alaska</td>\n",
       "      <td>Male</td>\n",
       "      <td>860.357143</td>\n",
       "      <td>12</td>\n",
       "      <td>5185</td>\n",
       "      <td>1411.777392</td>\n",
       "    </tr>\n",
       "    <tr>\n",
       "      <th>4</th>\n",
       "      <td>Arizona</td>\n",
       "      <td>Female</td>\n",
       "      <td>8800.622222</td>\n",
       "      <td>21</td>\n",
       "      <td>133923</td>\n",
       "      <td>25979.871632</td>\n",
       "    </tr>\n",
       "    <tr>\n",
       "      <th>5</th>\n",
       "      <td>Arizona</td>\n",
       "      <td>Male</td>\n",
       "      <td>9405.659574</td>\n",
       "      <td>12</td>\n",
       "      <td>110347</td>\n",
       "      <td>24040.140616</td>\n",
       "    </tr>\n",
       "    <tr>\n",
       "      <th>6</th>\n",
       "      <td>Arkansas</td>\n",
       "      <td>Female</td>\n",
       "      <td>6621.615385</td>\n",
       "      <td>11</td>\n",
       "      <td>81126</td>\n",
       "      <td>16794.044835</td>\n",
       "    </tr>\n",
       "    <tr>\n",
       "      <th>7</th>\n",
       "      <td>Arkansas</td>\n",
       "      <td>Male</td>\n",
       "      <td>6301.690476</td>\n",
       "      <td>10</td>\n",
       "      <td>61671</td>\n",
       "      <td>14165.374833</td>\n",
       "    </tr>\n",
       "    <tr>\n",
       "      <th>8</th>\n",
       "      <td>California</td>\n",
       "      <td>Female</td>\n",
       "      <td>45233.297872</td>\n",
       "      <td>16</td>\n",
       "      <td>720306</td>\n",
       "      <td>128295.350557</td>\n",
       "    </tr>\n",
       "    <tr>\n",
       "      <th>9</th>\n",
       "      <td>California</td>\n",
       "      <td>Male</td>\n",
       "      <td>46406.297872</td>\n",
       "      <td>29</td>\n",
       "      <td>473226</td>\n",
       "      <td>105895.671455</td>\n",
       "    </tr>\n",
       "  </tbody>\n",
       "</table>\n",
       "</div>"
      ],
      "text/plain": [
       "        State  Gender   Deaths_mean  Deaths_min  Deaths_max     Deaths_std\n",
       "0     Alabama  Female  10753.325000          10      116297   24612.250487\n",
       "1     Alabama    Male  10503.585366          10       88930   20620.218089\n",
       "2      Alaska  Female    679.975000          13        4727    1154.870455\n",
       "3      Alaska    Male    860.357143          12        5185    1411.777392\n",
       "4     Arizona  Female   8800.622222          21      133923   25979.871632\n",
       "5     Arizona    Male   9405.659574          12      110347   24040.140616\n",
       "6    Arkansas  Female   6621.615385          11       81126   16794.044835\n",
       "7    Arkansas    Male   6301.690476          10       61671   14165.374833\n",
       "8  California  Female  45233.297872          16      720306  128295.350557\n",
       "9  California    Male  46406.297872          29      473226  105895.671455"
      ]
     },
     "execution_count": 129,
     "metadata": {},
     "output_type": "execute_result"
    }
   ],
   "source": [
    "grouped.head(10)"
   ]
  },
  {
   "cell_type": "markdown",
   "metadata": {},
   "source": [
    "As we can see above, `grouped` is currently in a flattened format, with no hierarchical structure to it's indices.  \n",
    "\n",
    "In the cell below, call the `grouped` DataFrame's `.stack()` method. "
   ]
  },
  {
   "cell_type": "code",
   "execution_count": 131,
   "metadata": {},
   "outputs": [
    {
     "data": {
      "text/plain": [
       "0    State                Alabama\n",
       "     Gender                Female\n",
       "     Deaths_mean          10753.3\n",
       "     Deaths_min                10\n",
       "     Deaths_max            116297\n",
       "     Deaths_std           24612.3\n",
       "1    State                Alabama\n",
       "     Gender                  Male\n",
       "     Deaths_mean          10503.6\n",
       "     Deaths_min                10\n",
       "     Deaths_max             88930\n",
       "     Deaths_std           20620.2\n",
       "2    State                 Alaska\n",
       "     Gender                Female\n",
       "     Deaths_mean          679.975\n",
       "     Deaths_min                13\n",
       "     Deaths_max              4727\n",
       "     Deaths_std           1154.87\n",
       "3    State                 Alaska\n",
       "     Gender                  Male\n",
       "     Deaths_mean          860.357\n",
       "     Deaths_min                12\n",
       "     Deaths_max              5185\n",
       "     Deaths_std           1411.78\n",
       "4    State                Arizona\n",
       "     Gender                Female\n",
       "     Deaths_mean          8800.62\n",
       "     Deaths_min                21\n",
       "     Deaths_max            133923\n",
       "     Deaths_std           25979.9\n",
       "                        ...      \n",
       "97   State          West Virginia\n",
       "     Gender                  Male\n",
       "     Deaths_mean          6211.61\n",
       "     Deaths_min                10\n",
       "     Deaths_max             51167\n",
       "     Deaths_std           13336.3\n",
       "98   State              Wisconsin\n",
       "     Gender                Female\n",
       "     Deaths_mean          9918.11\n",
       "     Deaths_min                10\n",
       "     Deaths_max            189242\n",
       "     Deaths_std           33167.2\n",
       "99   State              Wisconsin\n",
       "     Gender                  Male\n",
       "     Deaths_mean          9573.45\n",
       "     Deaths_min                13\n",
       "     Deaths_max            113692\n",
       "     Deaths_std           25681.4\n",
       "100  State                Wyoming\n",
       "     Gender                Female\n",
       "     Deaths_mean          1161.03\n",
       "     Deaths_min                10\n",
       "     Deaths_max             13140\n",
       "     Deaths_std           2937.94\n",
       "101  State                Wyoming\n",
       "     Gender                  Male\n",
       "     Deaths_mean          1149.51\n",
       "     Deaths_min                10\n",
       "     Deaths_max             10113\n",
       "     Deaths_std           2569.28\n",
       "Length: 612, dtype: object"
      ]
     },
     "execution_count": 131,
     "metadata": {},
     "output_type": "execute_result"
    }
   ],
   "source": [
    "grouped.stack()"
   ]
  },
  {
   "cell_type": "markdown",
   "metadata": {},
   "source": [
    "As we can see, the `stack()` method has stacked our DataFrame from a flattened format into one with a multi-hierarchical index! This is an easy, quick way to aggregate our data.\n",
    "\n",
    "### Unstacking \n",
    "\n",
    "Now, we'll explore unstacking with the `pivot` DataFrame, which is already stacked into a pivot table. \n",
    "\n",
    "In the cell below, set unstack `pivot` using the object's `.unstack()` method. Then, display the object to see how it has changed. "
   ]
  },
  {
   "cell_type": "code",
   "execution_count": 143,
   "metadata": {},
   "outputs": [
    {
     "data": {
      "text/html": [
       "<div>\n",
       "<style scoped>\n",
       "    .dataframe tbody tr th:only-of-type {\n",
       "        vertical-align: middle;\n",
       "    }\n",
       "\n",
       "    .dataframe tbody tr th {\n",
       "        vertical-align: top;\n",
       "    }\n",
       "\n",
       "    .dataframe thead th {\n",
       "        text-align: right;\n",
       "    }\n",
       "</style>\n",
       "<table border=\"1\" class=\"dataframe\">\n",
       "  <thead>\n",
       "    <tr style=\"text-align: right;\">\n",
       "      <th>Gender</th>\n",
       "      <th>Female</th>\n",
       "      <th>Male</th>\n",
       "    </tr>\n",
       "    <tr>\n",
       "      <th>State</th>\n",
       "      <th></th>\n",
       "      <th></th>\n",
       "    </tr>\n",
       "  </thead>\n",
       "  <tbody>\n",
       "    <tr>\n",
       "      <th>Alabama</th>\n",
       "      <td>10753.325000</td>\n",
       "      <td>10503.585366</td>\n",
       "    </tr>\n",
       "    <tr>\n",
       "      <th>Alaska</th>\n",
       "      <td>679.975000</td>\n",
       "      <td>860.357143</td>\n",
       "    </tr>\n",
       "    <tr>\n",
       "      <th>Arizona</th>\n",
       "      <td>8800.622222</td>\n",
       "      <td>9405.659574</td>\n",
       "    </tr>\n",
       "    <tr>\n",
       "      <th>Arkansas</th>\n",
       "      <td>6621.615385</td>\n",
       "      <td>6301.690476</td>\n",
       "    </tr>\n",
       "    <tr>\n",
       "      <th>California</th>\n",
       "      <td>45233.297872</td>\n",
       "      <td>46406.297872</td>\n",
       "    </tr>\n",
       "    <tr>\n",
       "      <th>Colorado</th>\n",
       "      <td>6460.162791</td>\n",
       "      <td>6299.911111</td>\n",
       "    </tr>\n",
       "    <tr>\n",
       "      <th>Connecticut</th>\n",
       "      <td>6966.325000</td>\n",
       "      <td>6161.878049</td>\n",
       "    </tr>\n",
       "    <tr>\n",
       "      <th>Delaware</th>\n",
       "      <td>2000.029412</td>\n",
       "      <td>1940.914286</td>\n",
       "    </tr>\n",
       "    <tr>\n",
       "      <th>District of Columbia</th>\n",
       "      <td>1451.125000</td>\n",
       "      <td>1443.545455</td>\n",
       "    </tr>\n",
       "    <tr>\n",
       "      <th>Florida</th>\n",
       "      <td>34383.886364</td>\n",
       "      <td>35178.695652</td>\n",
       "    </tr>\n",
       "    <tr>\n",
       "      <th>Georgia</th>\n",
       "      <td>15372.317073</td>\n",
       "      <td>13972.266667</td>\n",
       "    </tr>\n",
       "    <tr>\n",
       "      <th>Hawaii</th>\n",
       "      <td>2182.944444</td>\n",
       "      <td>2341.450000</td>\n",
       "    </tr>\n",
       "    <tr>\n",
       "      <th>Idaho</th>\n",
       "      <td>2874.323529</td>\n",
       "      <td>2693.421053</td>\n",
       "    </tr>\n",
       "    <tr>\n",
       "      <th>Illinois</th>\n",
       "      <td>22343.837209</td>\n",
       "      <td>20713.318182</td>\n",
       "    </tr>\n",
       "    <tr>\n",
       "      <th>Indiana</th>\n",
       "      <td>13425.717949</td>\n",
       "      <td>12391.000000</td>\n",
       "    </tr>\n",
       "    <tr>\n",
       "      <th>Iowa</th>\n",
       "      <td>6419.707317</td>\n",
       "      <td>5952.170732</td>\n",
       "    </tr>\n",
       "    <tr>\n",
       "      <th>Kansas</th>\n",
       "      <td>5492.309524</td>\n",
       "      <td>5320.756098</td>\n",
       "    </tr>\n",
       "    <tr>\n",
       "      <th>Kentucky</th>\n",
       "      <td>10426.083333</td>\n",
       "      <td>9431.150000</td>\n",
       "    </tr>\n",
       "    <tr>\n",
       "      <th>Louisiana</th>\n",
       "      <td>9076.585366</td>\n",
       "      <td>9137.476190</td>\n",
       "    </tr>\n",
       "    <tr>\n",
       "      <th>Maine</th>\n",
       "      <td>3471.823529</td>\n",
       "      <td>3158.722222</td>\n",
       "    </tr>\n",
       "    <tr>\n",
       "      <th>Maryland</th>\n",
       "      <td>9435.139535</td>\n",
       "      <td>8972.704545</td>\n",
       "    </tr>\n",
       "    <tr>\n",
       "      <th>Massachusetts</th>\n",
       "      <td>13356.846154</td>\n",
       "      <td>11097.952381</td>\n",
       "    </tr>\n",
       "    <tr>\n",
       "      <th>Michigan</th>\n",
       "      <td>18421.659091</td>\n",
       "      <td>17541.977778</td>\n",
       "    </tr>\n",
       "    <tr>\n",
       "      <th>Minnesota</th>\n",
       "      <td>8168.204545</td>\n",
       "      <td>7792.795455</td>\n",
       "    </tr>\n",
       "    <tr>\n",
       "      <th>Mississippi</th>\n",
       "      <td>6048.209302</td>\n",
       "      <td>6187.302326</td>\n",
       "    </tr>\n",
       "    <tr>\n",
       "      <th>Missouri</th>\n",
       "      <td>12493.170732</td>\n",
       "      <td>11274.272727</td>\n",
       "    </tr>\n",
       "    <tr>\n",
       "      <th>Montana</th>\n",
       "      <td>2341.393939</td>\n",
       "      <td>2081.102564</td>\n",
       "    </tr>\n",
       "    <tr>\n",
       "      <th>Nebraska</th>\n",
       "      <td>3667.794872</td>\n",
       "      <td>3290.682927</td>\n",
       "    </tr>\n",
       "    <tr>\n",
       "      <th>Nevada</th>\n",
       "      <td>3642.767442</td>\n",
       "      <td>4386.186047</td>\n",
       "    </tr>\n",
       "    <tr>\n",
       "      <th>New Hampshire</th>\n",
       "      <td>3293.344828</td>\n",
       "      <td>2800.303030</td>\n",
       "    </tr>\n",
       "    <tr>\n",
       "      <th>New Jersey</th>\n",
       "      <td>16413.268293</td>\n",
       "      <td>14386.279070</td>\n",
       "    </tr>\n",
       "    <tr>\n",
       "      <th>New Mexico</th>\n",
       "      <td>3080.744186</td>\n",
       "      <td>3389.227273</td>\n",
       "    </tr>\n",
       "    <tr>\n",
       "      <th>New York</th>\n",
       "      <td>31028.891304</td>\n",
       "      <td>28570.565217</td>\n",
       "    </tr>\n",
       "    <tr>\n",
       "      <th>North Carolina</th>\n",
       "      <td>15686.333333</td>\n",
       "      <td>15067.913043</td>\n",
       "    </tr>\n",
       "    <tr>\n",
       "      <th>North Dakota</th>\n",
       "      <td>1719.645161</td>\n",
       "      <td>1587.411765</td>\n",
       "    </tr>\n",
       "    <tr>\n",
       "      <th>Ohio</th>\n",
       "      <td>25541.150000</td>\n",
       "      <td>23551.951220</td>\n",
       "    </tr>\n",
       "    <tr>\n",
       "      <th>Oklahoma</th>\n",
       "      <td>7451.931818</td>\n",
       "      <td>7303.333333</td>\n",
       "    </tr>\n",
       "    <tr>\n",
       "      <th>Oregon</th>\n",
       "      <td>6560.840909</td>\n",
       "      <td>6528.977273</td>\n",
       "    </tr>\n",
       "    <tr>\n",
       "      <th>Pennsylvania</th>\n",
       "      <td>28548.047619</td>\n",
       "      <td>25926.441860</td>\n",
       "    </tr>\n",
       "    <tr>\n",
       "      <th>Rhode Island</th>\n",
       "      <td>2746.970588</td>\n",
       "      <td>2180.763158</td>\n",
       "    </tr>\n",
       "    <tr>\n",
       "      <th>South Carolina</th>\n",
       "      <td>9481.921053</td>\n",
       "      <td>8657.162791</td>\n",
       "    </tr>\n",
       "    <tr>\n",
       "      <th>South Dakota</th>\n",
       "      <td>1932.757576</td>\n",
       "      <td>1800.500000</td>\n",
       "    </tr>\n",
       "    <tr>\n",
       "      <th>Tennessee</th>\n",
       "      <td>13334.325000</td>\n",
       "      <td>13008.634146</td>\n",
       "    </tr>\n",
       "    <tr>\n",
       "      <th>Texas</th>\n",
       "      <td>33128.363636</td>\n",
       "      <td>32860.130435</td>\n",
       "    </tr>\n",
       "    <tr>\n",
       "      <th>Utah</th>\n",
       "      <td>3046.547619</td>\n",
       "      <td>3011.909091</td>\n",
       "    </tr>\n",
       "    <tr>\n",
       "      <th>Vermont</th>\n",
       "      <td>2124.695652</td>\n",
       "      <td>1785.846154</td>\n",
       "    </tr>\n",
       "    <tr>\n",
       "      <th>Virginia</th>\n",
       "      <td>13232.146341</td>\n",
       "      <td>12014.659091</td>\n",
       "    </tr>\n",
       "    <tr>\n",
       "      <th>Washington</th>\n",
       "      <td>9796.863636</td>\n",
       "      <td>9658.311111</td>\n",
       "    </tr>\n",
       "    <tr>\n",
       "      <th>West Virginia</th>\n",
       "      <td>6247.225806</td>\n",
       "      <td>6211.612903</td>\n",
       "    </tr>\n",
       "    <tr>\n",
       "      <th>Wisconsin</th>\n",
       "      <td>9918.113636</td>\n",
       "      <td>9573.454545</td>\n",
       "    </tr>\n",
       "    <tr>\n",
       "      <th>Wyoming</th>\n",
       "      <td>1161.031250</td>\n",
       "      <td>1149.514286</td>\n",
       "    </tr>\n",
       "  </tbody>\n",
       "</table>\n",
       "</div>"
      ],
      "text/plain": [
       "Gender                      Female          Male\n",
       "State                                           \n",
       "Alabama               10753.325000  10503.585366\n",
       "Alaska                  679.975000    860.357143\n",
       "Arizona                8800.622222   9405.659574\n",
       "Arkansas               6621.615385   6301.690476\n",
       "California            45233.297872  46406.297872\n",
       "Colorado               6460.162791   6299.911111\n",
       "Connecticut            6966.325000   6161.878049\n",
       "Delaware               2000.029412   1940.914286\n",
       "District of Columbia   1451.125000   1443.545455\n",
       "Florida               34383.886364  35178.695652\n",
       "Georgia               15372.317073  13972.266667\n",
       "Hawaii                 2182.944444   2341.450000\n",
       "Idaho                  2874.323529   2693.421053\n",
       "Illinois              22343.837209  20713.318182\n",
       "Indiana               13425.717949  12391.000000\n",
       "Iowa                   6419.707317   5952.170732\n",
       "Kansas                 5492.309524   5320.756098\n",
       "Kentucky              10426.083333   9431.150000\n",
       "Louisiana              9076.585366   9137.476190\n",
       "Maine                  3471.823529   3158.722222\n",
       "Maryland               9435.139535   8972.704545\n",
       "Massachusetts         13356.846154  11097.952381\n",
       "Michigan              18421.659091  17541.977778\n",
       "Minnesota              8168.204545   7792.795455\n",
       "Mississippi            6048.209302   6187.302326\n",
       "Missouri              12493.170732  11274.272727\n",
       "Montana                2341.393939   2081.102564\n",
       "Nebraska               3667.794872   3290.682927\n",
       "Nevada                 3642.767442   4386.186047\n",
       "New Hampshire          3293.344828   2800.303030\n",
       "New Jersey            16413.268293  14386.279070\n",
       "New Mexico             3080.744186   3389.227273\n",
       "New York              31028.891304  28570.565217\n",
       "North Carolina        15686.333333  15067.913043\n",
       "North Dakota           1719.645161   1587.411765\n",
       "Ohio                  25541.150000  23551.951220\n",
       "Oklahoma               7451.931818   7303.333333\n",
       "Oregon                 6560.840909   6528.977273\n",
       "Pennsylvania          28548.047619  25926.441860\n",
       "Rhode Island           2746.970588   2180.763158\n",
       "South Carolina         9481.921053   8657.162791\n",
       "South Dakota           1932.757576   1800.500000\n",
       "Tennessee             13334.325000  13008.634146\n",
       "Texas                 33128.363636  32860.130435\n",
       "Utah                   3046.547619   3011.909091\n",
       "Vermont                2124.695652   1785.846154\n",
       "Virginia              13232.146341  12014.659091\n",
       "Washington             9796.863636   9658.311111\n",
       "West Virginia          6247.225806   6211.612903\n",
       "Wisconsin              9918.113636   9573.454545\n",
       "Wyoming                1161.031250   1149.514286"
      ]
     },
     "execution_count": 143,
     "metadata": {},
     "output_type": "execute_result"
    }
   ],
   "source": [
    "pivot = pivot.unstack()\n",
    "pivot"
   ]
  },
  {
   "cell_type": "markdown",
   "metadata": {},
   "source": [
    "Note that it has unstacked the multi-hierarchical structure of the `pivot` DataFrame by one level. Let's call it one more time and display the results!\n",
    "\n",
    "In the cell below, set pivot equal to `pivot.unstack()` again, and then display the `pivot` object to see how things have changed."
   ]
  },
  {
   "cell_type": "code",
   "execution_count": 145,
   "metadata": {},
   "outputs": [
    {
     "data": {
      "text/html": [
       "<div>\n",
       "<style scoped>\n",
       "    .dataframe tbody tr th:only-of-type {\n",
       "        vertical-align: middle;\n",
       "    }\n",
       "\n",
       "    .dataframe tbody tr th {\n",
       "        vertical-align: top;\n",
       "    }\n",
       "\n",
       "    .dataframe thead th {\n",
       "        text-align: right;\n",
       "    }\n",
       "</style>\n",
       "<table border=\"1\" class=\"dataframe\">\n",
       "  <thead>\n",
       "    <tr style=\"text-align: right;\">\n",
       "      <th>State</th>\n",
       "      <th>Alabama</th>\n",
       "      <th>Alaska</th>\n",
       "      <th>Arizona</th>\n",
       "      <th>Arkansas</th>\n",
       "      <th>California</th>\n",
       "      <th>Colorado</th>\n",
       "      <th>Connecticut</th>\n",
       "      <th>Delaware</th>\n",
       "      <th>District of Columbia</th>\n",
       "      <th>Florida</th>\n",
       "      <th>...</th>\n",
       "      <th>South Dakota</th>\n",
       "      <th>Tennessee</th>\n",
       "      <th>Texas</th>\n",
       "      <th>Utah</th>\n",
       "      <th>Vermont</th>\n",
       "      <th>Virginia</th>\n",
       "      <th>Washington</th>\n",
       "      <th>West Virginia</th>\n",
       "      <th>Wisconsin</th>\n",
       "      <th>Wyoming</th>\n",
       "    </tr>\n",
       "    <tr>\n",
       "      <th>Gender</th>\n",
       "      <th></th>\n",
       "      <th></th>\n",
       "      <th></th>\n",
       "      <th></th>\n",
       "      <th></th>\n",
       "      <th></th>\n",
       "      <th></th>\n",
       "      <th></th>\n",
       "      <th></th>\n",
       "      <th></th>\n",
       "      <th></th>\n",
       "      <th></th>\n",
       "      <th></th>\n",
       "      <th></th>\n",
       "      <th></th>\n",
       "      <th></th>\n",
       "      <th></th>\n",
       "      <th></th>\n",
       "      <th></th>\n",
       "      <th></th>\n",
       "      <th></th>\n",
       "    </tr>\n",
       "  </thead>\n",
       "  <tbody>\n",
       "    <tr>\n",
       "      <th>Female</th>\n",
       "      <td>10753.325000</td>\n",
       "      <td>679.975000</td>\n",
       "      <td>8800.622222</td>\n",
       "      <td>6621.615385</td>\n",
       "      <td>45233.297872</td>\n",
       "      <td>6460.162791</td>\n",
       "      <td>6966.325000</td>\n",
       "      <td>2000.029412</td>\n",
       "      <td>1451.125000</td>\n",
       "      <td>34383.886364</td>\n",
       "      <td>...</td>\n",
       "      <td>1932.757576</td>\n",
       "      <td>13334.325000</td>\n",
       "      <td>33128.363636</td>\n",
       "      <td>3046.547619</td>\n",
       "      <td>2124.695652</td>\n",
       "      <td>13232.146341</td>\n",
       "      <td>9796.863636</td>\n",
       "      <td>6247.225806</td>\n",
       "      <td>9918.113636</td>\n",
       "      <td>1161.031250</td>\n",
       "    </tr>\n",
       "    <tr>\n",
       "      <th>Male</th>\n",
       "      <td>10503.585366</td>\n",
       "      <td>860.357143</td>\n",
       "      <td>9405.659574</td>\n",
       "      <td>6301.690476</td>\n",
       "      <td>46406.297872</td>\n",
       "      <td>6299.911111</td>\n",
       "      <td>6161.878049</td>\n",
       "      <td>1940.914286</td>\n",
       "      <td>1443.545455</td>\n",
       "      <td>35178.695652</td>\n",
       "      <td>...</td>\n",
       "      <td>1800.500000</td>\n",
       "      <td>13008.634146</td>\n",
       "      <td>32860.130435</td>\n",
       "      <td>3011.909091</td>\n",
       "      <td>1785.846154</td>\n",
       "      <td>12014.659091</td>\n",
       "      <td>9658.311111</td>\n",
       "      <td>6211.612903</td>\n",
       "      <td>9573.454545</td>\n",
       "      <td>1149.514286</td>\n",
       "    </tr>\n",
       "  </tbody>\n",
       "</table>\n",
       "<p>2 rows × 51 columns</p>\n",
       "</div>"
      ],
      "text/plain": [
       "State        Alabama      Alaska      Arizona     Arkansas    California  \\\n",
       "Gender                                                                     \n",
       "Female  10753.325000  679.975000  8800.622222  6621.615385  45233.297872   \n",
       "Male    10503.585366  860.357143  9405.659574  6301.690476  46406.297872   \n",
       "\n",
       "State      Colorado  Connecticut     Delaware  District of Columbia  \\\n",
       "Gender                                                                \n",
       "Female  6460.162791  6966.325000  2000.029412           1451.125000   \n",
       "Male    6299.911111  6161.878049  1940.914286           1443.545455   \n",
       "\n",
       "State        Florida     ...       South Dakota     Tennessee         Texas  \\\n",
       "Gender                   ...                                                  \n",
       "Female  34383.886364     ...        1932.757576  13334.325000  33128.363636   \n",
       "Male    35178.695652     ...        1800.500000  13008.634146  32860.130435   \n",
       "\n",
       "State          Utah      Vermont      Virginia   Washington  West Virginia  \\\n",
       "Gender                                                                       \n",
       "Female  3046.547619  2124.695652  13232.146341  9796.863636    6247.225806   \n",
       "Male    3011.909091  1785.846154  12014.659091  9658.311111    6211.612903   \n",
       "\n",
       "State     Wisconsin      Wyoming  \n",
       "Gender                            \n",
       "Female  9918.113636  1161.031250  \n",
       "Male    9573.454545  1149.514286  \n",
       "\n",
       "[2 rows x 51 columns]"
      ]
     },
     "execution_count": 145,
     "metadata": {},
     "output_type": "execute_result"
    }
   ],
   "source": [
    "pivot = pivot.unstack()\n",
    "pivot"
   ]
  },
  {
   "cell_type": "markdown",
   "metadata": {},
   "source": [
    "After calling unstack a second time, we can see that `pivot` has a flattened structure, since it has been completely unstacked!\n",
    "\n",
    "## Summary\n",
    "\n",
    "In this lab, we learned how to:\n",
    "\n",
    "* Use `groupby` to stack and slice data conditionally\n",
    "* Use aggregate functions in combination with groupby statements\n",
    "* Create pivot tables with pandas\n",
    "* Leverage pivot tables and groupby statements to create quick visualizations\n",
    "* `stack` and `unstack` DataFrames "
   ]
  }
 ],
 "metadata": {
  "kernelspec": {
   "display_name": "Python 3",
   "language": "python",
   "name": "python3"
  },
  "language_info": {
   "codemirror_mode": {
    "name": "ipython",
    "version": 3
   },
   "file_extension": ".py",
   "mimetype": "text/x-python",
   "name": "python",
   "nbconvert_exporter": "python",
   "pygments_lexer": "ipython3",
   "version": "3.6.6"
  }
 },
 "nbformat": 4,
 "nbformat_minor": 2
}
